{
 "cells": [
  {
   "cell_type": "markdown",
   "metadata": {},
   "source": [
    "# Summary\n",
    "My hypothesis was that a neural network could be trained to predict the type of pitch that would be thrown by using a few variables describing the game state. \n",
    "\n",
    "Using models of varying sizes trained with all MLB pitches in 2024 I was unable to generate more accurate predictions than simply guessing \"four-seam fastball\" every time. I will assume that it is a 50/50 coin flip between my hypothesis being invalid, and my methodology being flawed. \n",
    "\n",
    "In the future it may be useful to isolate certain variables around game state. e.g., There may be more identifiable patterns for specific pitchers, or for two-strike / two-out situations. \n",
    "\n",
    "# Variables\n",
    "The following features were used to train the model \n",
    "\n",
    "* Handedness of the pitcher and batter.\n",
    "* Number of balls, strikes, and pitches seen during the at-bat.\n",
    "* Number of outs in the current frame.  \n",
    "* Which bases have runners on them. \n",
    "\n",
    "There are several variables in the statcast dataset like release location, spin rate, speed that are intentionally left out. The goal was to generate a model that could predict the pitch type BEFORE it was thrown. i.e., not to classify the pitch type based on data about the pitch itself.\n",
    "\n",
    "# Importing the data and preprocessing\n",
    "I used the daily Statcast CSV files from my GitHub repo. There were a few problematic rows that needed to be addressed. "
   ]
  },
  {
   "cell_type": "code",
   "execution_count": 1,
   "metadata": {},
   "outputs": [],
   "source": [
    "import os\n",
    "import glob\n",
    "import pandas as pd\n",
    "\n",
    "os.chdir(os.path.expanduser('~/Documents/Baseball/StatcastData/statcast_csv'))\n",
    "files = glob.glob('*.csv')\n",
    "statcast_df = []\n",
    "for file in files: \n",
    "    data = pd.read_csv(file)\n",
    "    statcast_df.append(data)\n",
    "statcast_df = pd.concat(statcast_df)\n",
    "\n",
    "# There is one invalid row where the ball count is 4. We will just remove it\n",
    "# otherwise the OneHotEncoding creates an entirely new column for counts with \n",
    "# 4 balls that is only set once in the 700k rows. \n",
    "statcast_df[statcast_df['balls'] == 4]\n",
    "statcast_df = statcast_df[statcast_df['balls'] != 4]\n",
    "\n",
    "# We are missing pitch clasification on ~300 pitches. It's a small enough number, we'll drop them\n",
    "statcast_df['pitch_type'].isna().sum()\n",
    "statcast_df = statcast_df.dropna(subset=['pitch_type'])"
   ]
  },
  {
   "cell_type": "markdown",
   "metadata": {},
   "source": [
    "We are still working with over 700k pitches after removing the offending rows. \n",
    "\n",
    "The pitch distribution for the entire season is shown below. The most important abbreviaitions: FF = Four-seam fastball, CH = Changup, CU = Curveball, SI = Sinker, SL = Slider, ST = Sweeper. \n",
    "\n",
    "The conclusion was already offered above - our models only ended up being accurate 32% of the time. i.e., How often four-seam fastballs were thrown.  "
   ]
  },
  {
   "cell_type": "code",
   "execution_count": 2,
   "metadata": {},
   "outputs": [
    {
     "name": "stdout",
     "output_type": "stream",
     "text": [
      "(705912, 94)\n"
     ]
    },
    {
     "data": {
      "text/plain": [
       "pitch_type\n",
       "CH    10.250428\n",
       "CS     0.001842\n",
       "CU     6.579290\n",
       "EP     0.060489\n",
       "FA     0.081738\n",
       "FC     8.025221\n",
       "FF    31.649129\n",
       "FO     0.021107\n",
       "FS     3.019073\n",
       "KC     1.635190\n",
       "KN     0.134861\n",
       "PO     0.007650\n",
       "SC     0.021674\n",
       "SI    16.040810\n",
       "SL    16.425702\n",
       "ST     5.680595\n",
       "SV     0.365201\n",
       "dtype: float64"
      ]
     },
     "execution_count": 2,
     "metadata": {},
     "output_type": "execute_result"
    }
   ],
   "source": [
    "# Pitch count\n",
    "print(statcast_df.shape)\n",
    "\n",
    "# Pitch distribution\n",
    "statcast_df.groupby(['pitch_type']).size() / len(statcast_df) * 100"
   ]
  },
  {
   "cell_type": "code",
   "execution_count": 3,
   "metadata": {},
   "outputs": [],
   "source": [
    "# Subset the data to the columns we care about\n",
    "feature_columns = ['stand', 'p_throws', 'balls', 'strikes', \n",
    "                   'on_1b', 'on_2b', 'on_3b', \n",
    "                   'outs_when_up', 'pitch_number']\n",
    "\n",
    "X = statcast_df[feature_columns]\n",
    "y = statcast_df['pitch_type']\n",
    "\n",
    "# List of pitch types that are in our dataset\n",
    "labels = y.unique()"
   ]
  },
  {
   "cell_type": "markdown",
   "metadata": {},
   "source": [
    "Take a quick look at the feature variables. Notice that we are told which player is on base. We don't care about the player specifically, only if the base is occupied before the pitch is thrown. One of the transformations we will apply converts the on base columns to booleans indicating whether someone is there or not. "
   ]
  },
  {
   "cell_type": "code",
   "execution_count": 4,
   "metadata": {},
   "outputs": [
    {
     "data": {
      "text/html": [
       "<div>\n",
       "<style scoped>\n",
       "    .dataframe tbody tr th:only-of-type {\n",
       "        vertical-align: middle;\n",
       "    }\n",
       "\n",
       "    .dataframe tbody tr th {\n",
       "        vertical-align: top;\n",
       "    }\n",
       "\n",
       "    .dataframe thead th {\n",
       "        text-align: right;\n",
       "    }\n",
       "</style>\n",
       "<table border=\"1\" class=\"dataframe\">\n",
       "  <thead>\n",
       "    <tr style=\"text-align: right;\">\n",
       "      <th></th>\n",
       "      <th>stand</th>\n",
       "      <th>p_throws</th>\n",
       "      <th>balls</th>\n",
       "      <th>strikes</th>\n",
       "      <th>on_1b</th>\n",
       "      <th>on_2b</th>\n",
       "      <th>on_3b</th>\n",
       "      <th>outs_when_up</th>\n",
       "      <th>pitch_number</th>\n",
       "    </tr>\n",
       "  </thead>\n",
       "  <tbody>\n",
       "    <tr>\n",
       "      <th>0</th>\n",
       "      <td>L</td>\n",
       "      <td>R</td>\n",
       "      <td>1</td>\n",
       "      <td>2</td>\n",
       "      <td>NaN</td>\n",
       "      <td>NaN</td>\n",
       "      <td>NaN</td>\n",
       "      <td>2</td>\n",
       "      <td>4</td>\n",
       "    </tr>\n",
       "    <tr>\n",
       "      <th>1</th>\n",
       "      <td>L</td>\n",
       "      <td>R</td>\n",
       "      <td>0</td>\n",
       "      <td>2</td>\n",
       "      <td>NaN</td>\n",
       "      <td>NaN</td>\n",
       "      <td>NaN</td>\n",
       "      <td>2</td>\n",
       "      <td>3</td>\n",
       "    </tr>\n",
       "    <tr>\n",
       "      <th>2</th>\n",
       "      <td>L</td>\n",
       "      <td>R</td>\n",
       "      <td>0</td>\n",
       "      <td>1</td>\n",
       "      <td>NaN</td>\n",
       "      <td>NaN</td>\n",
       "      <td>NaN</td>\n",
       "      <td>2</td>\n",
       "      <td>2</td>\n",
       "    </tr>\n",
       "    <tr>\n",
       "      <th>3</th>\n",
       "      <td>R</td>\n",
       "      <td>R</td>\n",
       "      <td>1</td>\n",
       "      <td>0</td>\n",
       "      <td>690993.0</td>\n",
       "      <td>663837.0</td>\n",
       "      <td>NaN</td>\n",
       "      <td>2</td>\n",
       "      <td>2</td>\n",
       "    </tr>\n",
       "    <tr>\n",
       "      <th>4</th>\n",
       "      <td>L</td>\n",
       "      <td>R</td>\n",
       "      <td>0</td>\n",
       "      <td>0</td>\n",
       "      <td>NaN</td>\n",
       "      <td>NaN</td>\n",
       "      <td>NaN</td>\n",
       "      <td>2</td>\n",
       "      <td>1</td>\n",
       "    </tr>\n",
       "  </tbody>\n",
       "</table>\n",
       "</div>"
      ],
      "text/plain": [
       "  stand p_throws  balls  strikes     on_1b     on_2b  on_3b  outs_when_up  \\\n",
       "0     L        R      1        2       NaN       NaN    NaN             2   \n",
       "1     L        R      0        2       NaN       NaN    NaN             2   \n",
       "2     L        R      0        1       NaN       NaN    NaN             2   \n",
       "3     R        R      1        0  690993.0  663837.0    NaN             2   \n",
       "4     L        R      0        0       NaN       NaN    NaN             2   \n",
       "\n",
       "   pitch_number  \n",
       "0             4  \n",
       "1             3  \n",
       "2             2  \n",
       "3             2  \n",
       "4             1  "
      ]
     },
     "execution_count": 4,
     "metadata": {},
     "output_type": "execute_result"
    }
   ],
   "source": [
    "X.head()"
   ]
  },
  {
   "cell_type": "markdown",
   "metadata": {},
   "source": []
  },
  {
   "cell_type": "code",
   "execution_count": 5,
   "metadata": {},
   "outputs": [
    {
     "name": "stdout",
     "output_type": "stream",
     "text": [
      "stand                0\n",
      "p_throws             0\n",
      "balls                0\n",
      "strikes              0\n",
      "on_1b           492126\n",
      "on_2b           574608\n",
      "on_3b           640349\n",
      "outs_when_up         0\n",
      "pitch_number         0\n",
      "dtype: int64\n"
     ]
    }
   ],
   "source": [
    "# Since the NAs are isolated to the three \"on base\" columns apply the transformation on the whole dataframe \n",
    "print(X.isna().sum())\n",
    "X = X.fillna(0)"
   ]
  },
  {
   "cell_type": "code",
   "execution_count": 6,
   "metadata": {},
   "outputs": [
    {
     "data": {
      "text/plain": [
       "stand           0\n",
       "p_throws        0\n",
       "balls           0\n",
       "strikes         0\n",
       "on_1b           0\n",
       "on_2b           0\n",
       "on_3b           0\n",
       "outs_when_up    0\n",
       "pitch_number    0\n",
       "dtype: int64"
      ]
     },
     "execution_count": 6,
     "metadata": {},
     "output_type": "execute_result"
    }
   ],
   "source": [
    "X.isna().sum()"
   ]
  },
  {
   "cell_type": "markdown",
   "metadata": {},
   "source": [
    "The data is split into 80%/10%/10% buckets for training/validation/testing respectively."
   ]
  },
  {
   "cell_type": "code",
   "execution_count": 7,
   "metadata": {},
   "outputs": [],
   "source": [
    "from sklearn.model_selection import train_test_split\n",
    "\n",
    "X_train, X_tmp, y_train, y_tmp = \\\n",
    "    train_test_split(X, y, train_size=0.8, random_state=0)\n",
    "\n",
    "X_valid, X_test, y_valid, y_test = \\\n",
    "    train_test_split(X_tmp, y_tmp, train_size=0.5, random_state=0)"
   ]
  },
  {
   "cell_type": "markdown",
   "metadata": {},
   "source": [
    "Transform the features and target labels"
   ]
  },
  {
   "cell_type": "code",
   "execution_count": 8,
   "metadata": {},
   "outputs": [],
   "source": [
    "from sklearn.preprocessing import Binarizer, OneHotEncoder\n",
    "from sklearn.compose import make_column_transformer\n",
    "from sklearn.impute import SimpleImputer\n",
    "\n",
    "# Switch the on base columns to booleans indicating if someone is on that base\n",
    "# OneHot encode almost everything else (pitch_number is left as an integer)\n",
    "transformer = make_column_transformer(\n",
    "    (Binarizer(),['on_1b', 'on_2b', 'on_3b']),\n",
    "    (OneHotEncoder(), ['stand', 'p_throws', 'balls', 'strikes', 'outs_when_up']),\n",
    "    remainder='passthrough'\n",
    ")"
   ]
  },
  {
   "cell_type": "code",
   "execution_count": 9,
   "metadata": {},
   "outputs": [],
   "source": [
    "X_train = transformer.fit_transform(X_train)\n",
    "X_valid = transformer.transform(X_valid)\n",
    "X_test = transformer.transform(X_test)\n",
    "\n",
    "input_shape = [X_train.shape[1]]"
   ]
  },
  {
   "cell_type": "code",
   "execution_count": 10,
   "metadata": {},
   "outputs": [],
   "source": [
    "# Encode the target labels as a series of integers instead of the two letter codes. \n",
    "from sklearn.preprocessing import LabelEncoder\n",
    "le = LabelEncoder()\n",
    "y_train = le.fit_transform(y_train)\n",
    "y_valid = le.transform(y_valid)\n",
    "y_test = le.transform(y_test)"
   ]
  },
  {
   "cell_type": "code",
   "execution_count": 11,
   "metadata": {},
   "outputs": [
    {
     "data": {
      "text/plain": [
       "array([ 6,  5, 15, ...,  5, 14,  6])"
      ]
     },
     "execution_count": 11,
     "metadata": {},
     "output_type": "execute_result"
    }
   ],
   "source": [
    "y_train"
   ]
  },
  {
   "cell_type": "markdown",
   "metadata": {},
   "source": [
    "# Model Training\n",
    "The first model is two layers deep with 64 nodes in each. It is configured to output probabilities that a given pitch type will be thrown. Early stopping was used to prevent overfitting. "
   ]
  },
  {
   "cell_type": "code",
   "execution_count": 12,
   "metadata": {},
   "outputs": [
    {
     "name": "stderr",
     "output_type": "stream",
     "text": [
      "2025-01-03 15:54:55.445234: I tensorflow/core/platform/cpu_feature_guard.cc:210] This TensorFlow binary is optimized to use available CPU instructions in performance-critical operations.\n",
      "To enable the following instructions: AVX2 FMA, in other operations, rebuild TensorFlow with the appropriate compiler flags.\n"
     ]
    },
    {
     "name": "stdout",
     "output_type": "stream",
     "text": [
      "Epoch 1/50\n",
      "\u001b[1m1103/1103\u001b[0m \u001b[32m━━━━━━━━━━━━━━━━━━━━\u001b[0m\u001b[37m\u001b[0m \u001b[1m3s\u001b[0m 2ms/step - accuracy: 0.2916 - loss: 2.0504 - val_accuracy: 0.3207 - val_loss: 1.8805\n",
      "Epoch 2/50\n",
      "\u001b[1m1103/1103\u001b[0m \u001b[32m━━━━━━━━━━━━━━━━━━━━\u001b[0m\u001b[37m\u001b[0m \u001b[1m2s\u001b[0m 2ms/step - accuracy: 0.3150 - loss: 1.8975 - val_accuracy: 0.3207 - val_loss: 1.8771\n",
      "Epoch 3/50\n",
      "\u001b[1m1103/1103\u001b[0m \u001b[32m━━━━━━━━━━━━━━━━━━━━\u001b[0m\u001b[37m\u001b[0m \u001b[1m2s\u001b[0m 2ms/step - accuracy: 0.3146 - loss: 1.8889 - val_accuracy: 0.3206 - val_loss: 1.8757\n",
      "Epoch 4/50\n",
      "\u001b[1m1103/1103\u001b[0m \u001b[32m━━━━━━━━━━━━━━━━━━━━\u001b[0m\u001b[37m\u001b[0m \u001b[1m2s\u001b[0m 2ms/step - accuracy: 0.3158 - loss: 1.8882 - val_accuracy: 0.3208 - val_loss: 1.8748\n",
      "Epoch 5/50\n",
      "\u001b[1m1103/1103\u001b[0m \u001b[32m━━━━━━━━━━━━━━━━━━━━\u001b[0m\u001b[37m\u001b[0m \u001b[1m2s\u001b[0m 2ms/step - accuracy: 0.3153 - loss: 1.8845 - val_accuracy: 0.3208 - val_loss: 1.8740\n",
      "Epoch 6/50\n",
      "\u001b[1m1103/1103\u001b[0m \u001b[32m━━━━━━━━━━━━━━━━━━━━\u001b[0m\u001b[37m\u001b[0m \u001b[1m2s\u001b[0m 2ms/step - accuracy: 0.3161 - loss: 1.8849 - val_accuracy: 0.3213 - val_loss: 1.8731\n",
      "Epoch 7/50\n",
      "\u001b[1m1103/1103\u001b[0m \u001b[32m━━━━━━━━━━━━━━━━━━━━\u001b[0m\u001b[37m\u001b[0m \u001b[1m2s\u001b[0m 2ms/step - accuracy: 0.3166 - loss: 1.8826 - val_accuracy: 0.3210 - val_loss: 1.8731\n",
      "Epoch 8/50\n",
      "\u001b[1m1103/1103\u001b[0m \u001b[32m━━━━━━━━━━━━━━━━━━━━\u001b[0m\u001b[37m\u001b[0m \u001b[1m2s\u001b[0m 2ms/step - accuracy: 0.3159 - loss: 1.8831 - val_accuracy: 0.3215 - val_loss: 1.8732\n",
      "Epoch 9/50\n",
      "\u001b[1m1103/1103\u001b[0m \u001b[32m━━━━━━━━━━━━━━━━━━━━\u001b[0m\u001b[37m\u001b[0m \u001b[1m2s\u001b[0m 2ms/step - accuracy: 0.3159 - loss: 1.8836 - val_accuracy: 0.3214 - val_loss: 1.8734\n",
      "Epoch 10/50\n",
      "\u001b[1m1103/1103\u001b[0m \u001b[32m━━━━━━━━━━━━━━━━━━━━\u001b[0m\u001b[37m\u001b[0m \u001b[1m2s\u001b[0m 2ms/step - accuracy: 0.3158 - loss: 1.8825 - val_accuracy: 0.3211 - val_loss: 1.8731\n"
     ]
    }
   ],
   "source": [
    "import setuptools.dist\n",
    "from tensorflow import keras\n",
    "from tensorflow.keras import layers\n",
    "from tensorflow.keras import callbacks\n",
    "\n",
    "early_stopping = callbacks.EarlyStopping(\n",
    "    patience=5,\n",
    "    min_delta=0.001,\n",
    "    restore_best_weights=True\n",
    ")\n",
    "\n",
    "model = keras.Sequential([\n",
    "    layers.Input(shape=input_shape),\n",
    "    layers.Dense(64, activation='relu'),\n",
    "    layers.Dropout(0.3),\n",
    "    layers.Dense(64, activation='relu'),\n",
    "    layers.Dropout(0.3),\n",
    "    layers.Dense(len(labels), activation='softmax')\n",
    "])\n",
    "\n",
    "model.compile(optimizer='adam',\n",
    "              loss='sparse_categorical_crossentropy',\n",
    "              metrics=['accuracy'])\n",
    "\n",
    "history = model.fit(X_train, y_train, \n",
    "                    validation_data=(X_valid, y_valid),\n",
    "                    batch_size = 512,\n",
    "                    epochs=50,\n",
    "                    callbacks=[early_stopping])"
   ]
  },
  {
   "cell_type": "code",
   "execution_count": 13,
   "metadata": {},
   "outputs": [
    {
     "data": {
      "text/plain": [
       "<Axes: >"
      ]
     },
     "execution_count": 13,
     "metadata": {},
     "output_type": "execute_result"
    },
    {
     "data": {
      "image/png": "[encoded data removed]",
      "text/plain": [
       "<Figure size 640x480 with 1 Axes>"
      ]
     },
     "metadata": {},
     "output_type": "display_data"
    },
    {
     "data": {
      "image/png": "[encoded data removed]",
      "text/plain": [
       "<Figure size 640x480 with 1 Axes>"
      ]
     },
     "metadata": {},
     "output_type": "display_data"
    }
   ],
   "source": [
    "history_df = pd.DataFrame(history.history)\n",
    "history_df.loc[0:,['loss','val_loss']].plot()\n",
    "history_df.loc[0:, ['accuracy', 'val_accuracy']].plot()"
   ]
  },
  {
   "cell_type": "markdown",
   "metadata": {},
   "source": [
    "The next few code blocks configured models of different sizes ranging from a single 16 node model to a much larger 4 x 512 node model. I didn't bother producing plots of the training accuracy as it looks like the training log is essentially the same for each, except the models had slightly different stopping points. "
   ]
  },
  {
   "cell_type": "code",
   "execution_count": 14,
   "metadata": {},
   "outputs": [
    {
     "name": "stdout",
     "output_type": "stream",
     "text": [
      "Epoch 1/50\n",
      "\u001b[1m1103/1103\u001b[0m \u001b[32m━━━━━━━━━━━━━━━━━━━━\u001b[0m\u001b[37m\u001b[0m \u001b[1m2s\u001b[0m 1ms/step - accuracy: 0.2457 - loss: 2.1853 - val_accuracy: 0.3207 - val_loss: 1.9168\n",
      "Epoch 2/50\n",
      "\u001b[1m1103/1103\u001b[0m \u001b[32m━━━━━━━━━━━━━━━━━━━━\u001b[0m\u001b[37m\u001b[0m \u001b[1m2s\u001b[0m 2ms/step - accuracy: 0.3152 - loss: 1.9319 - val_accuracy: 0.3207 - val_loss: 1.8919\n",
      "Epoch 3/50\n",
      "\u001b[1m1103/1103\u001b[0m \u001b[32m━━━━━━━━━━━━━━━━━━━━\u001b[0m\u001b[37m\u001b[0m \u001b[1m1s\u001b[0m 1ms/step - accuracy: 0.3152 - loss: 1.9115 - val_accuracy: 0.3207 - val_loss: 1.8850\n",
      "Epoch 4/50\n",
      "\u001b[1m1103/1103\u001b[0m \u001b[32m━━━━━━━━━━━━━━━━━━━━\u001b[0m\u001b[37m\u001b[0m \u001b[1m1s\u001b[0m 1ms/step - accuracy: 0.3155 - loss: 1.9063 - val_accuracy: 0.3206 - val_loss: 1.8819\n",
      "Epoch 5/50\n",
      "\u001b[1m1103/1103\u001b[0m \u001b[32m━━━━━━━━━━━━━━━━━━━━\u001b[0m\u001b[37m\u001b[0m \u001b[1m1s\u001b[0m 1ms/step - accuracy: 0.3158 - loss: 1.9024 - val_accuracy: 0.3207 - val_loss: 1.8813\n",
      "Epoch 6/50\n",
      "\u001b[1m1103/1103\u001b[0m \u001b[32m━━━━━━━━━━━━━━━━━━━━\u001b[0m\u001b[37m\u001b[0m \u001b[1m1s\u001b[0m 1ms/step - accuracy: 0.3155 - loss: 1.9014 - val_accuracy: 0.3207 - val_loss: 1.8798\n",
      "Epoch 7/50\n",
      "\u001b[1m1103/1103\u001b[0m \u001b[32m━━━━━━━━━━━━━━━━━━━━\u001b[0m\u001b[37m\u001b[0m \u001b[1m1s\u001b[0m 1ms/step - accuracy: 0.3157 - loss: 1.8984 - val_accuracy: 0.3207 - val_loss: 1.8792\n",
      "Epoch 8/50\n",
      "\u001b[1m1103/1103\u001b[0m \u001b[32m━━━━━━━━━━━━━━━━━━━━\u001b[0m\u001b[37m\u001b[0m \u001b[1m1s\u001b[0m 1ms/step - accuracy: 0.3163 - loss: 1.8948 - val_accuracy: 0.3207 - val_loss: 1.8784\n",
      "Epoch 9/50\n",
      "\u001b[1m1103/1103\u001b[0m \u001b[32m━━━━━━━━━━━━━━━━━━━━\u001b[0m\u001b[37m\u001b[0m \u001b[1m1s\u001b[0m 1ms/step - accuracy: 0.3167 - loss: 1.8933 - val_accuracy: 0.3207 - val_loss: 1.8779\n",
      "Epoch 10/50\n",
      "\u001b[1m1103/1103\u001b[0m \u001b[32m━━━━━━━━━━━━━━━━━━━━\u001b[0m\u001b[37m\u001b[0m \u001b[1m2s\u001b[0m 2ms/step - accuracy: 0.3155 - loss: 1.8917 - val_accuracy: 0.3207 - val_loss: 1.8773\n",
      "Epoch 11/50\n",
      "\u001b[1m1103/1103\u001b[0m \u001b[32m━━━━━━━━━━━━━━━━━━━━\u001b[0m\u001b[37m\u001b[0m \u001b[1m1s\u001b[0m 1ms/step - accuracy: 0.3165 - loss: 1.8919 - val_accuracy: 0.3207 - val_loss: 1.8766\n",
      "Epoch 12/50\n",
      "\u001b[1m1103/1103\u001b[0m \u001b[32m━━━━━━━━━━━━━━━━━━━━\u001b[0m\u001b[37m\u001b[0m \u001b[1m2s\u001b[0m 1ms/step - accuracy: 0.3163 - loss: 1.8900 - val_accuracy: 0.3207 - val_loss: 1.8765\n",
      "Epoch 13/50\n",
      "\u001b[1m1103/1103\u001b[0m \u001b[32m━━━━━━━━━━━━━━━━━━━━\u001b[0m\u001b[37m\u001b[0m \u001b[1m2s\u001b[0m 1ms/step - accuracy: 0.3162 - loss: 1.8906 - val_accuracy: 0.3207 - val_loss: 1.8768\n",
      "Epoch 14/50\n",
      "\u001b[1m1103/1103\u001b[0m \u001b[32m━━━━━━━━━━━━━━━━━━━━\u001b[0m\u001b[37m\u001b[0m \u001b[1m2s\u001b[0m 1ms/step - accuracy: 0.3159 - loss: 1.8891 - val_accuracy: 0.3207 - val_loss: 1.8767\n",
      "Epoch 15/50\n",
      "\u001b[1m1103/1103\u001b[0m \u001b[32m━━━━━━━━━━━━━━━━━━━━\u001b[0m\u001b[37m\u001b[0m \u001b[1m2s\u001b[0m 1ms/step - accuracy: 0.3164 - loss: 1.8898 - val_accuracy: 0.3207 - val_loss: 1.8764\n"
     ]
    }
   ],
   "source": [
    "histories = {}\n",
    "\n",
    "tiny_model = keras.Sequential([\n",
    "    layers.Input(shape=input_shape),\n",
    "    layers.Dense(16, activation='relu'),\n",
    "    layers.Dropout(0.3),\n",
    "    layers.Dense(len(labels), activation='softmax')\n",
    "])\n",
    "\n",
    "tiny_model.compile(optimizer='adam',\n",
    "                loss='sparse_categorical_crossentropy',\n",
    "                metrics=['accuracy'])\n",
    "\n",
    "histories['Tiny'] = tiny_model.fit(X_train, y_train, \n",
    "                        validation_data=(X_valid, y_valid),\n",
    "                        batch_size = 512,\n",
    "                        epochs=50,\n",
    "                        callbacks=[early_stopping])\n",
    "\n"
   ]
  },
  {
   "cell_type": "code",
   "execution_count": 15,
   "metadata": {},
   "outputs": [
    {
     "name": "stdout",
     "output_type": "stream",
     "text": [
      "Epoch 1/50\n",
      "\u001b[1m1103/1103\u001b[0m \u001b[32m━━━━━━━━━━━━━━━━━━━━\u001b[0m\u001b[37m\u001b[0m \u001b[1m3s\u001b[0m 2ms/step - accuracy: 0.2377 - loss: 2.2729 - val_accuracy: 0.3207 - val_loss: 1.9092\n",
      "Epoch 2/50\n",
      "\u001b[1m1103/1103\u001b[0m \u001b[32m━━━━━━━━━━━━━━━━━━━━\u001b[0m\u001b[37m\u001b[0m \u001b[1m2s\u001b[0m 2ms/step - accuracy: 0.3134 - loss: 1.9394 - val_accuracy: 0.3207 - val_loss: 1.8960\n",
      "Epoch 3/50\n",
      "\u001b[1m1103/1103\u001b[0m \u001b[32m━━━━━━━━━━━━━━━━━━━━\u001b[0m\u001b[37m\u001b[0m \u001b[1m2s\u001b[0m 1ms/step - accuracy: 0.3145 - loss: 1.9200 - val_accuracy: 0.3207 - val_loss: 1.8916\n",
      "Epoch 4/50\n",
      "\u001b[1m1103/1103\u001b[0m \u001b[32m━━━━━━━━━━━━━━━━━━━━\u001b[0m\u001b[37m\u001b[0m \u001b[1m2s\u001b[0m 1ms/step - accuracy: 0.3153 - loss: 1.9116 - val_accuracy: 0.3207 - val_loss: 1.8882\n",
      "Epoch 5/50\n",
      "\u001b[1m1103/1103\u001b[0m \u001b[32m━━━━━━━━━━━━━━━━━━━━\u001b[0m\u001b[37m\u001b[0m \u001b[1m2s\u001b[0m 2ms/step - accuracy: 0.3152 - loss: 1.9087 - val_accuracy: 0.3207 - val_loss: 1.8859\n",
      "Epoch 6/50\n",
      "\u001b[1m1103/1103\u001b[0m \u001b[32m━━━━━━━━━━━━━━━━━━━━\u001b[0m\u001b[37m\u001b[0m \u001b[1m4s\u001b[0m 3ms/step - accuracy: 0.3139 - loss: 1.9055 - val_accuracy: 0.3207 - val_loss: 1.8849\n",
      "Epoch 7/50\n",
      "\u001b[1m1103/1103\u001b[0m \u001b[32m━━━━━━━━━━━━━━━━━━━━\u001b[0m\u001b[37m\u001b[0m \u001b[1m2s\u001b[0m 2ms/step - accuracy: 0.3158 - loss: 1.9023 - val_accuracy: 0.3207 - val_loss: 1.8829\n",
      "Epoch 8/50\n",
      "\u001b[1m1103/1103\u001b[0m \u001b[32m━━━━━━━━━━━━━━━━━━━━\u001b[0m\u001b[37m\u001b[0m \u001b[1m2s\u001b[0m 2ms/step - accuracy: 0.3138 - loss: 1.9016 - val_accuracy: 0.3207 - val_loss: 1.8832\n",
      "Epoch 9/50\n",
      "\u001b[1m1103/1103\u001b[0m \u001b[32m━━━━━━━━━━━━━━━━━━━━\u001b[0m\u001b[37m\u001b[0m \u001b[1m2s\u001b[0m 2ms/step - accuracy: 0.3144 - loss: 1.8996 - val_accuracy: 0.3207 - val_loss: 1.8820\n",
      "Epoch 10/50\n",
      "\u001b[1m1103/1103\u001b[0m \u001b[32m━━━━━━━━━━━━━━━━━━━━\u001b[0m\u001b[37m\u001b[0m \u001b[1m2s\u001b[0m 2ms/step - accuracy: 0.3149 - loss: 1.8986 - val_accuracy: 0.3207 - val_loss: 1.8805\n",
      "Epoch 11/50\n",
      "\u001b[1m1103/1103\u001b[0m \u001b[32m━━━━━━━━━━━━━━━━━━━━\u001b[0m\u001b[37m\u001b[0m \u001b[1m2s\u001b[0m 2ms/step - accuracy: 0.3139 - loss: 1.8984 - val_accuracy: 0.3207 - val_loss: 1.8802\n",
      "Epoch 12/50\n",
      "\u001b[1m1103/1103\u001b[0m \u001b[32m━━━━━━━━━━━━━━━━━━━━\u001b[0m\u001b[37m\u001b[0m \u001b[1m2s\u001b[0m 2ms/step - accuracy: 0.3149 - loss: 1.8951 - val_accuracy: 0.3207 - val_loss: 1.8811\n",
      "Epoch 13/50\n",
      "\u001b[1m1103/1103\u001b[0m \u001b[32m━━━━━━━━━━━━━━━━━━━━\u001b[0m\u001b[37m\u001b[0m \u001b[1m2s\u001b[0m 2ms/step - accuracy: 0.3161 - loss: 1.8953 - val_accuracy: 0.3207 - val_loss: 1.8803\n",
      "Epoch 14/50\n",
      "\u001b[1m1103/1103\u001b[0m \u001b[32m━━━━━━━━━━━━━━━━━━━━\u001b[0m\u001b[37m\u001b[0m \u001b[1m2s\u001b[0m 2ms/step - accuracy: 0.3152 - loss: 1.8953 - val_accuracy: 0.3207 - val_loss: 1.8796\n",
      "Epoch 15/50\n",
      "\u001b[1m1103/1103\u001b[0m \u001b[32m━━━━━━━━━━━━━━━━━━━━\u001b[0m\u001b[37m\u001b[0m \u001b[1m2s\u001b[0m 2ms/step - accuracy: 0.3154 - loss: 1.8928 - val_accuracy: 0.3207 - val_loss: 1.8793\n",
      "Epoch 16/50\n",
      "\u001b[1m1103/1103\u001b[0m \u001b[32m━━━━━━━━━━━━━━━━━━━━\u001b[0m\u001b[37m\u001b[0m \u001b[1m2s\u001b[0m 2ms/step - accuracy: 0.3165 - loss: 1.8920 - val_accuracy: 0.3207 - val_loss: 1.8796\n",
      "Epoch 17/50\n",
      "\u001b[1m1103/1103\u001b[0m \u001b[32m━━━━━━━━━━━━━━━━━━━━\u001b[0m\u001b[37m\u001b[0m \u001b[1m2s\u001b[0m 2ms/step - accuracy: 0.3151 - loss: 1.8949 - val_accuracy: 0.3207 - val_loss: 1.8793\n",
      "Epoch 18/50\n",
      "\u001b[1m1103/1103\u001b[0m \u001b[32m━━━━━━━━━━━━━━━━━━━━\u001b[0m\u001b[37m\u001b[0m \u001b[1m2s\u001b[0m 2ms/step - accuracy: 0.3160 - loss: 1.8939 - val_accuracy: 0.3207 - val_loss: 1.8799\n",
      "Epoch 19/50\n",
      "\u001b[1m1103/1103\u001b[0m \u001b[32m━━━━━━━━━━━━━━━━━━━━\u001b[0m\u001b[37m\u001b[0m \u001b[1m3s\u001b[0m 3ms/step - accuracy: 0.3151 - loss: 1.8942 - val_accuracy: 0.3207 - val_loss: 1.8820\n",
      "Epoch 20/50\n",
      "\u001b[1m1103/1103\u001b[0m \u001b[32m━━━━━━━━━━━━━━━━━━━━\u001b[0m\u001b[37m\u001b[0m \u001b[1m3s\u001b[0m 2ms/step - accuracy: 0.3168 - loss: 1.8929 - val_accuracy: 0.3207 - val_loss: 1.8809\n"
     ]
    }
   ],
   "source": [
    "small_model = keras.Sequential([\n",
    "    layers.Input(shape=input_shape),\n",
    "    layers.Dense(16, activation='relu'),\n",
    "    layers.Dropout(0.3),\n",
    "    layers.Dense(16, activation='relu'),\n",
    "    layers.Dropout(0.3),\n",
    "    layers.Dense(len(labels), activation='softmax')\n",
    "])\n",
    "\n",
    "small_model.compile(optimizer='adam',\n",
    "                 loss='sparse_categorical_crossentropy',\n",
    "                 metrics=['accuracy'])\n",
    "\n",
    "histories['Small'] = small_model.fit(X_train, y_train, \n",
    "                        validation_data=(X_valid, y_valid),\n",
    "                        batch_size = 512,\n",
    "                        epochs=50,\n",
    "                        callbacks=[early_stopping])"
   ]
  },
  {
   "cell_type": "code",
   "execution_count": 16,
   "metadata": {},
   "outputs": [
    {
     "name": "stdout",
     "output_type": "stream",
     "text": [
      "Epoch 1/50\n",
      "\u001b[1m1103/1103\u001b[0m \u001b[32m━━━━━━━━━━━━━━━━━━━━\u001b[0m\u001b[37m\u001b[0m \u001b[1m4s\u001b[0m 3ms/step - accuracy: 0.2833 - loss: 2.0832 - val_accuracy: 0.3206 - val_loss: 1.8820\n",
      "Epoch 2/50\n",
      "\u001b[1m1103/1103\u001b[0m \u001b[32m━━━━━━━━━━━━━━━━━━━━\u001b[0m\u001b[37m\u001b[0m \u001b[1m3s\u001b[0m 3ms/step - accuracy: 0.3156 - loss: 1.8997 - val_accuracy: 0.3207 - val_loss: 1.8769\n",
      "Epoch 3/50\n",
      "\u001b[1m1103/1103\u001b[0m \u001b[32m━━━━━━━━━━━━━━━━━━━━\u001b[0m\u001b[37m\u001b[0m \u001b[1m3s\u001b[0m 2ms/step - accuracy: 0.3151 - loss: 1.8936 - val_accuracy: 0.3207 - val_loss: 1.8753\n",
      "Epoch 4/50\n",
      "\u001b[1m1103/1103\u001b[0m \u001b[32m━━━━━━━━━━━━━━━━━━━━\u001b[0m\u001b[37m\u001b[0m \u001b[1m3s\u001b[0m 2ms/step - accuracy: 0.3162 - loss: 1.8880 - val_accuracy: 0.3209 - val_loss: 1.8743\n",
      "Epoch 5/50\n",
      "\u001b[1m1103/1103\u001b[0m \u001b[32m━━━━━━━━━━━━━━━━━━━━\u001b[0m\u001b[37m\u001b[0m \u001b[1m3s\u001b[0m 2ms/step - accuracy: 0.3154 - loss: 1.8874 - val_accuracy: 0.3208 - val_loss: 1.8753\n",
      "Epoch 6/50\n",
      "\u001b[1m1103/1103\u001b[0m \u001b[32m━━━━━━━━━━━━━━━━━━━━\u001b[0m\u001b[37m\u001b[0m \u001b[1m3s\u001b[0m 3ms/step - accuracy: 0.3161 - loss: 1.8842 - val_accuracy: 0.3210 - val_loss: 1.8742\n",
      "Epoch 7/50\n",
      "\u001b[1m1103/1103\u001b[0m \u001b[32m━━━━━━━━━━━━━━━━━━━━\u001b[0m\u001b[37m\u001b[0m \u001b[1m3s\u001b[0m 3ms/step - accuracy: 0.3146 - loss: 1.8859 - val_accuracy: 0.3215 - val_loss: 1.8739\n",
      "Epoch 8/50\n",
      "\u001b[1m1103/1103\u001b[0m \u001b[32m━━━━━━━━━━━━━━━━━━━━\u001b[0m\u001b[37m\u001b[0m \u001b[1m3s\u001b[0m 2ms/step - accuracy: 0.3152 - loss: 1.8853 - val_accuracy: 0.3210 - val_loss: 1.8729\n",
      "Epoch 9/50\n",
      "\u001b[1m1103/1103\u001b[0m \u001b[32m━━━━━━━━━━━━━━━━━━━━\u001b[0m\u001b[37m\u001b[0m \u001b[1m3s\u001b[0m 2ms/step - accuracy: 0.3148 - loss: 1.8855 - val_accuracy: 0.3213 - val_loss: 1.8735\n",
      "Epoch 10/50\n",
      "\u001b[1m1103/1103\u001b[0m \u001b[32m━━━━━━━━━━━━━━━━━━━━\u001b[0m\u001b[37m\u001b[0m \u001b[1m3s\u001b[0m 2ms/step - accuracy: 0.3161 - loss: 1.8809 - val_accuracy: 0.3211 - val_loss: 1.8729\n",
      "Epoch 11/50\n",
      "\u001b[1m1103/1103\u001b[0m \u001b[32m━━━━━━━━━━━━━━━━━━━━\u001b[0m\u001b[37m\u001b[0m \u001b[1m2s\u001b[0m 2ms/step - accuracy: 0.3165 - loss: 1.8822 - val_accuracy: 0.3215 - val_loss: 1.8729\n",
      "Epoch 12/50\n",
      "\u001b[1m1103/1103\u001b[0m \u001b[32m━━━━━━━━━━━━━━━━━━━━\u001b[0m\u001b[37m\u001b[0m \u001b[1m2s\u001b[0m 2ms/step - accuracy: 0.3158 - loss: 1.8823 - val_accuracy: 0.3218 - val_loss: 1.8731\n",
      "Epoch 13/50\n",
      "\u001b[1m1103/1103\u001b[0m \u001b[32m━━━━━━━━━━━━━━━━━━━━\u001b[0m\u001b[37m\u001b[0m \u001b[1m3s\u001b[0m 3ms/step - accuracy: 0.3164 - loss: 1.8827 - val_accuracy: 0.3211 - val_loss: 1.8733\n"
     ]
    }
   ],
   "source": [
    "medium_model = keras.Sequential([\n",
    "    layers.Input(shape=input_shape),\n",
    "    layers.Dense(64, activation='relu'),\n",
    "    layers.Dropout(0.3),\n",
    "    layers.Dense(64, activation='relu'),\n",
    "    layers.Dropout(0.3),\n",
    "    layers.Dense(64, activation='relu'),\n",
    "    layers.Dropout(0.3),\n",
    "    layers.Dense(len(labels), activation='softmax')\n",
    "])\n",
    "\n",
    "medium_model.compile(optimizer='adam',\n",
    "                 loss='sparse_categorical_crossentropy',\n",
    "                 metrics=['accuracy'])\n",
    "\n",
    "histories['Medium'] = medium_model.fit(X_train, y_train, \n",
    "                    validation_data=(X_valid, y_valid),\n",
    "                    batch_size = 512,\n",
    "                    epochs=50,\n",
    "                    callbacks=[early_stopping])"
   ]
  },
  {
   "cell_type": "code",
   "execution_count": 17,
   "metadata": {},
   "outputs": [
    {
     "name": "stdout",
     "output_type": "stream",
     "text": [
      "Epoch 1/50\n",
      "\u001b[1m1103/1103\u001b[0m \u001b[32m━━━━━━━━━━━━━━━━━━━━\u001b[0m\u001b[37m\u001b[0m \u001b[1m26s\u001b[0m 22ms/step - accuracy: 0.3104 - loss: 1.9328 - val_accuracy: 0.3194 - val_loss: 1.8763\n",
      "Epoch 2/50\n",
      "\u001b[1m1103/1103\u001b[0m \u001b[32m━━━━━━━━━━━━━━━━━━━━\u001b[0m\u001b[37m\u001b[0m \u001b[1m26s\u001b[0m 23ms/step - accuracy: 0.3162 - loss: 1.8840 - val_accuracy: 0.3212 - val_loss: 1.8742\n",
      "Epoch 3/50\n",
      "\u001b[1m1103/1103\u001b[0m \u001b[32m━━━━━━━━━━━━━━━━━━━━\u001b[0m\u001b[37m\u001b[0m \u001b[1m27s\u001b[0m 25ms/step - accuracy: 0.3166 - loss: 1.8811 - val_accuracy: 0.3212 - val_loss: 1.8751\n",
      "Epoch 4/50\n",
      "\u001b[1m1103/1103\u001b[0m \u001b[32m━━━━━━━━━━━━━━━━━━━━\u001b[0m\u001b[37m\u001b[0m \u001b[1m23s\u001b[0m 21ms/step - accuracy: 0.3178 - loss: 1.8796 - val_accuracy: 0.3217 - val_loss: 1.8732\n",
      "Epoch 5/50\n",
      "\u001b[1m1103/1103\u001b[0m \u001b[32m━━━━━━━━━━━━━━━━━━━━\u001b[0m\u001b[37m\u001b[0m \u001b[1m27s\u001b[0m 24ms/step - accuracy: 0.3148 - loss: 1.8818 - val_accuracy: 0.3215 - val_loss: 1.8743\n",
      "Epoch 6/50\n",
      "\u001b[1m1103/1103\u001b[0m \u001b[32m━━━━━━━━━━━━━━━━━━━━\u001b[0m\u001b[37m\u001b[0m \u001b[1m25s\u001b[0m 23ms/step - accuracy: 0.3165 - loss: 1.8799 - val_accuracy: 0.3219 - val_loss: 1.8729\n",
      "Epoch 7/50\n",
      "\u001b[1m1103/1103\u001b[0m \u001b[32m━━━━━━━━━━━━━━━━━━━━\u001b[0m\u001b[37m\u001b[0m \u001b[1m26s\u001b[0m 24ms/step - accuracy: 0.3176 - loss: 1.8783 - val_accuracy: 0.3212 - val_loss: 1.8731\n",
      "Epoch 8/50\n",
      "\u001b[1m1103/1103\u001b[0m \u001b[32m━━━━━━━━━━━━━━━━━━━━\u001b[0m\u001b[37m\u001b[0m \u001b[1m26s\u001b[0m 24ms/step - accuracy: 0.3167 - loss: 1.8785 - val_accuracy: 0.3200 - val_loss: 1.8734\n",
      "Epoch 9/50\n",
      "\u001b[1m1103/1103\u001b[0m \u001b[32m━━━━━━━━━━━━━━━━━━━━\u001b[0m\u001b[37m\u001b[0m \u001b[1m26s\u001b[0m 23ms/step - accuracy: 0.3170 - loss: 1.8773 - val_accuracy: 0.3220 - val_loss: 1.8736\n",
      "Epoch 10/50\n",
      "\u001b[1m1103/1103\u001b[0m \u001b[32m━━━━━━━━━━━━━━━━━━━━\u001b[0m\u001b[37m\u001b[0m \u001b[1m34s\u001b[0m 31ms/step - accuracy: 0.3174 - loss: 1.8772 - val_accuracy: 0.3219 - val_loss: 1.8730\n",
      "Epoch 11/50\n",
      "\u001b[1m1103/1103\u001b[0m \u001b[32m━━━━━━━━━━━━━━━━━━━━\u001b[0m\u001b[37m\u001b[0m \u001b[1m34s\u001b[0m 31ms/step - accuracy: 0.3153 - loss: 1.8787 - val_accuracy: 0.3220 - val_loss: 1.8728\n"
     ]
    }
   ],
   "source": [
    "large_model = keras.Sequential([\n",
    "    layers.Input(shape=input_shape),\n",
    "    layers.Dense(512, activation='relu'),\n",
    "    layers.Dropout(0.3),\n",
    "    layers.Dense(512, activation='relu'),\n",
    "    layers.Dropout(0.3),\n",
    "    layers.Dense(512, activation='relu'),\n",
    "    layers.Dropout(0.3),\n",
    "    layers.Dense(512, activation='relu'),\n",
    "    layers.Dropout(0.3),\n",
    "    layers.Dense(len(labels), activation='softmax')\n",
    "])\n",
    "\n",
    "large_model.compile(optimizer='adam',\n",
    "              loss='sparse_categorical_crossentropy',\n",
    "              metrics=['accuracy'])\n",
    "\n",
    "histories['Large'] = large_model.fit(X_train, y_train, \n",
    "                    validation_data=(X_valid, y_valid),\n",
    "                    batch_size = 512,\n",
    "                    epochs=50,\n",
    "                    callbacks=[early_stopping])"
   ]
  },
  {
   "cell_type": "markdown",
   "metadata": {},
   "source": [
    "# Predictions\n",
    "Now we generate some predictions from the first model. "
   ]
  },
  {
   "cell_type": "code",
   "execution_count": 18,
   "metadata": {},
   "outputs": [
    {
     "name": "stdout",
     "output_type": "stream",
     "text": [
      "\u001b[1m2206/2206\u001b[0m \u001b[32m━━━━━━━━━━━━━━━━━━━━\u001b[0m\u001b[37m\u001b[0m \u001b[1m2s\u001b[0m 886us/step\n"
     ]
    }
   ],
   "source": [
    "predictions = model.predict(X_test)"
   ]
  },
  {
   "cell_type": "markdown",
   "metadata": {},
   "source": [
    "It looks like a lot of four-seam fastball predictions (label #6)."
   ]
  },
  {
   "cell_type": "code",
   "execution_count": 19,
   "metadata": {},
   "outputs": [
    {
     "data": {
      "text/plain": [
       "array([6, 6, 6, ..., 6, 6, 6])"
      ]
     },
     "execution_count": 19,
     "metadata": {},
     "output_type": "execute_result"
    }
   ],
   "source": [
    "import numpy as np\n",
    "np.argmax(predictions, axis=1)"
   ]
  },
  {
   "cell_type": "markdown",
   "metadata": {},
   "source": [
    "In fact it is. 95% predicted to be fastball, and then roughly 2.5% predicted to be each sinker and slider. "
   ]
  },
  {
   "cell_type": "code",
   "execution_count": 20,
   "metadata": {},
   "outputs": [
    {
     "data": {
      "text/plain": [
       "predictions\n",
       "6     96.671011\n",
       "13     3.328989\n",
       "dtype: float64"
      ]
     },
     "execution_count": 20,
     "metadata": {},
     "output_type": "execute_result"
    }
   ],
   "source": [
    "\n",
    "pd.DataFrame({'predictions': np.argmax(predictions,axis=1)}).groupby(['predictions']).size() / len(predictions) * 100\n"
   ]
  },
  {
   "cell_type": "code",
   "execution_count": 21,
   "metadata": {},
   "outputs": [
    {
     "name": "stdout",
     "output_type": "stream",
     "text": [
      "FF\n",
      "SI\n",
      "SL\n"
     ]
    }
   ],
   "source": [
    "print(le.classes_[6])\n",
    "print(le.classes_[13])\n",
    "print(le.classes_[14])"
   ]
  }
 ],
 "metadata": {
  "kernelspec": {
   "display_name": ".venv",
   "language": "python",
   "name": "python3"
  },
  "language_info": {
   "codemirror_mode": {
    "name": "ipython",
    "version": 3
   },
   "file_extension": ".py",
   "mimetype": "text/x-python",
   "name": "python",
   "nbconvert_exporter": "python",
   "pygments_lexer": "ipython3",
   "version": "3.12.2"
  }
 },
 "nbformat": 4,
 "nbformat_minor": 2
}
